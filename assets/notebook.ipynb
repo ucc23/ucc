{
  "nbformat": 4,
  "nbformat_minor": 0,
  "metadata": {
    "colab": {
      "provenance": [],
      "toc_visible": true
    },
    "kernelspec": {
      "name": "python3",
      "display_name": "Python 3"
    },
    "language_info": {
      "name": "python"
    }
  },
  "cells": [
    {
      "cell_type": "markdown",
      "source": [
        "# Exploring UCC cluster data\n",
        "\n",
        "This notebook allows you to explore the data for each cluster listed in the UCC. The UCC cluster datafiles contain the frame processed by the [fastMP](https://asteca.readthedocs.io/en/latest/apidocs/asteca/asteca.membership.html#asteca.membership.Membership.fastmp) membership algorithm."
      ],
      "metadata": {
        "id": "bP5GMKKjW3Uu"
      }
    },
    {
      "cell_type": "markdown",
      "source": [
        "## Import packages and load data\n",
        "\n",
        "First we **define the name of the cluster to be analyzed**. In this example we select the cluster `Blanco 1` (it doesn't matter if you use upper or lower case):"
      ],
      "metadata": {
        "id": "xsjjZ84gW3U4"
      }
    },
    {
      "cell_type": "code",
      "source": [
        "cluster = \"blanco 1\""
      ],
      "metadata": {
        "id": "K7GSHrQLW3U7"
      },
      "execution_count": null,
      "outputs": []
    },
    {
      "cell_type": "markdown",
      "source": [
        "We then import the required packages:"
      ],
      "metadata": {
        "id": "ezPyAyrAW3U-"
      }
    },
    {
      "cell_type": "code",
      "execution_count": null,
      "metadata": {
        "id": "K9EstBHAW3U_"
      },
      "outputs": [],
      "source": [
        "import pandas as pd\n",
        "import requests\n",
        "import numpy as np\n",
        "from urllib.error import HTTPError\n",
        "from bokeh.plotting import figure, show\n",
        "from bokeh.models import LinearColorMapper\n",
        "from bokeh.models import ColumnDataSource\n",
        "from bokeh.models import ColorBar\n",
        "from bokeh.models import Range1d\n",
        "from bokeh.io import output_notebook\n",
        "output_notebook()"
      ]
    },
    {
      "cell_type": "markdown",
      "source": [
        "The next step is to load the UCC members data into a `pandas` dataframe. The file is large so this could take a minute.\n"
      ],
      "metadata": {
        "id": "v6g8ULciW3U_"
      }
    },
    {
      "cell_type": "code",
      "source": [
        "# Load full UCC members database from Zenodo\n",
        "final_url = requests.get('https://doi.org/10.5281/zenodo.8250523', allow_redirects=True).url\n",
        "df_ucc = pd.read_parquet(final_url + \"/files/UCC_members.parquet\")"
      ],
      "metadata": {
        "id": "Qc5rDwejXtfr"
      },
      "execution_count": null,
      "outputs": []
    },
    {
      "cell_type": "markdown",
      "source": [
        "Now we define the function that handles loading the selected cluster."
      ],
      "metadata": {
        "id": "zEU6mKa5mCbJ"
      }
    },
    {
      "cell_type": "code",
      "source": [
        "def load_cluster(cluster):\n",
        "    \"\"\"Function that handles loading a cluster's datafile\"\"\"\n",
        "    # Proper file name format\n",
        "    file_name = cluster.lower().replace('_', '').replace(' ', '').replace('-', '')\n",
        "    msk = df_ucc['name'] == file_name\n",
        "    df = df_ucc[msk]\n",
        "\n",
        "    if df.size > 0:\n",
        "        print(f\"Cluster '{cluster}' loaded\")\n",
        "        return df\n",
        "    else:\n",
        "        raise ValueError(f\"Cluster '{cluster}' not found in UCC database\")"
      ],
      "metadata": {
        "id": "pieBYFTUl9K6"
      },
      "execution_count": null,
      "outputs": []
    },
    {
      "cell_type": "markdown",
      "source": [
        "We can now load a cluster with data from the UCC"
      ],
      "metadata": {
        "id": "c3X2QbFaW3VC"
      }
    },
    {
      "cell_type": "code",
      "source": [
        "df = load_cluster(cluster)"
      ],
      "metadata": {
        "id": "aMtyEBS5W3VD"
      },
      "execution_count": null,
      "outputs": []
    },
    {
      "cell_type": "markdown",
      "source": [
        "The most probable members in the UCC database are stored using a probability cut of `P>0.5`. A minimum number of member stars is set to `25`, so that if less than `25` stars have `P>0.5` then the most probable members are those `25` stars with the largest probability values below 0.5. Other databases handle this differently."
      ],
      "metadata": {
        "id": "J-om8gx9W3VF"
      }
    },
    {
      "cell_type": "markdown",
      "source": [
        "## Define plotting functions\n"
      ],
      "metadata": {
        "id": "lLyuW1SZW3VF"
      }
    },
    {
      "cell_type": "markdown",
      "source": [
        "Define functions to generate scatter plots and histograms:"
      ],
      "metadata": {
        "id": "sCMIkzbuW3VF"
      }
    },
    {
      "cell_type": "code",
      "source": [
        "def scatter_plot(x, y, col, flip_yaxis=False):\n",
        "    members = ColumnDataSource({'xm':df[x], 'ym':df[y], 'col':df[col]})\n",
        "    cmap = LinearColorMapper(palette=\"Plasma256\", low = df[col].min(), high = 1)\n",
        "\n",
        "    p = figure()\n",
        "    p.scatter(\"xm\", \"ym\", size=10, source=members, line_color='black', alpha=.75,\n",
        "              fill_color={\"field\":\"col\", \"transform\":cmap})\n",
        "    if flip_yaxis:\n",
        "        p.y_range.flipped = True\n",
        "    bar = ColorBar(color_mapper=cmap)\n",
        "    p.add_layout(bar, \"right\")\n",
        "    p.xaxis.axis_label = x\n",
        "    p.yaxis.axis_label = y\n",
        "    show(p)\n",
        "\n",
        "\n",
        "def histo_plot(x):\n",
        "    p = figure()\n",
        "    # Histogram for member stars\n",
        "    hist, edges = np.histogram(df[x], bins=20)\n",
        "    p.quad(top=hist, bottom=0, left=edges[:-1], right=edges[1:],\n",
        "            fill_color=\"skyblue\", line_color=\"white\", alpha=.75)\n",
        "    # Vertical line\n",
        "    p.ray(x=[np.nanmedian(df[x])], y=[0], length=0, angle=90,\n",
        "          angle_units='deg', line_width=3, line_color='red')\n",
        "    left, right = np.nanmin(df[x]) * 0.9, np.nanmax(df[x]) * 1.1\n",
        "    p.x_range=Range1d(left, right)\n",
        "    p.xaxis.axis_label = x\n",
        "    p.yaxis.axis_label = \"N\"\n",
        "    show(p)"
      ],
      "metadata": {
        "id": "df8VKQS1W3VG"
      },
      "execution_count": null,
      "outputs": []
    },
    {
      "cell_type": "markdown",
      "source": [
        "## Generate interactive plots\n",
        "\n",
        "Now we can generate some interactive plots. For example the distribution of galactic coordinates for member stars, colored by their membership probability"
      ],
      "metadata": {
        "id": "__xjceSNW3VG"
      }
    },
    {
      "cell_type": "code",
      "source": [
        "x, y, col = 'GLON', 'GLAT', 'probs'\n",
        "scatter_plot(x, y, col)"
      ],
      "metadata": {
        "id": "njlXCDgiW3VH"
      },
      "execution_count": null,
      "outputs": []
    },
    {
      "cell_type": "markdown",
      "source": [
        "And a color-magnitude diagram"
      ],
      "metadata": {
        "id": "oiZIRvrJW3VH"
      }
    },
    {
      "cell_type": "code",
      "source": [
        "x, y, col = 'BP-RP', 'Gmag', 'probs'\n",
        "scatter_plot(x, y, col, True)"
      ],
      "metadata": {
        "id": "CCGPzwiFW3VH"
      },
      "execution_count": null,
      "outputs": []
    },
    {
      "cell_type": "markdown",
      "source": [
        "Distribution of proper motions"
      ],
      "metadata": {
        "id": "N8HQdm6XW3VI"
      }
    },
    {
      "cell_type": "code",
      "source": [
        "x, y, col = 'pmRA', 'pmDE', 'probs'\n",
        "scatter_plot(x, y, col)"
      ],
      "metadata": {
        "id": "ay0uv1MeW3VI"
      },
      "execution_count": null,
      "outputs": []
    },
    {
      "cell_type": "markdown",
      "source": [
        "Histogram of the parallaxes with the median value of the selected members shown as a red vertical line"
      ],
      "metadata": {
        "id": "fFwkekHIW3VJ"
      }
    },
    {
      "cell_type": "code",
      "source": [
        "histo_plot('Plx')"
      ],
      "metadata": {
        "id": "F2dEVEG7W3VK"
      },
      "execution_count": null,
      "outputs": []
    }
  ]
}